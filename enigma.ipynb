{
 "cells": [
  {
   "cell_type": "markdown",
   "metadata": {
    "collapsed": true,
    "pycharm": {
     "name": "#%% md\n"
    }
   },
   "source": [
    "# Ciphers 101\n",
    "\n",
    "A few weekends ago I visited Bletchley Park (BP) in Bucks UK. BP was the headquarters of the British codebreaking operation in World War 2, made famous after the war for their work cracking the German Enigma cipher system. While little remains of the top secret operation (aside from the wooden huts built in the grounds of the house) I was inspired to replicate the Enigma machine in Python and provide it in Jupyter notebook form to allow others to have a go at breaking it (with the help of a modern computer).\n",
    "\n",
    "This notebook documents my journey over the past few weeks learning about basic ciphers, how they relate to modern algorithms and how the Enigma worked. It's not totally linear and a bit rough but hopefully it'll be interesting for someone else.\n",
    "\n",
    "*N.B. I am not a mathematician, much less a cryptographer. I wrote this as I find it useful to refresh my probability skills and practice writing but you probably shouldn't rely on any of the information in here. Create a pull request on the repo if you'd like to fix a mistake, suggest a change or make an improvement and I'll do my best to merge it in.*\n",
    "\n",
    "## Alphabets\n",
    "\n",
    "First some basics. We start with an alphabet $A$ that represents 26 upper case letters and a space as 27 integer symbols:\n",
    "\n",
    "$$ A = \\{ A=0, B=1, ..., Z=25, \\_=26 \\} $$\n",
    "\n",
    "We define a sentence as a list of symbols from $A$:\n",
    "\n",
    "$$ S_A = [ s_0, s_1, ... s_n ], s_i \\in A $$\n",
    "\n",
    "_N.B. It seems that modern cryptography literature tends to think in terms of bits and bitwise operators when talking about ciphers. I guess that's because modern ciphers operate on blocks of bits. I'm using integer representations of characters because it was quicker to get going that way. Some operations (e.g. the one-time pad) are examined more succinctly in bitwise terms but given that the focus here is on the Enigma machine and basic ciphers, integers will do._\n"
   ]
  },
  {
   "cell_type": "code",
   "execution_count": 1,
   "metadata": {
    "pycharm": {
     "name": "#%%\n"
    }
   },
   "outputs": [
    {
     "data": {
      "text/plain": "'ABC XYZ'"
     },
     "execution_count": 1,
     "metadata": {},
     "output_type": "execute_result"
    }
   ],
   "source": [
    "import math\n",
    "from collections import OrderedDict\n",
    "\n",
    "import requests\n",
    "\n",
    "alphabet = \"ABCDEFGHIJKLMNOPQRSTUVWXYZ \"\n",
    "unigram_dict = OrderedDict((s, i) for i, s in enumerate(alphabet))\n",
    "\n",
    "\n",
    "# Get the L-sentence representation of a string\n",
    "def str_to_l(str):\n",
    "    return [unigram_dict[x] for x in str]\n",
    "\n",
    "\n",
    "# Get a string representation of an L-sentence\n",
    "def l_to_str(indices):\n",
    "    items = list(unigram_dict.items())\n",
    "    return ''.join([items[x][0] for x in indices])\n",
    "\n",
    "\n",
    "l_to_str(str_to_l(\"ABC XYZ\"))"
   ]
  },
  {
   "cell_type": "markdown",
   "metadata": {
    "pycharm": {
     "name": "#%% md\n"
    }
   },
   "source": [
    "## Substitution ciphers\n",
    "\n",
    "A substitution cipher is an encryption function $ E : S_A \\rightarrow S_{A^\\prime} $  that if it's to be useful should transform the input sentence into an output sentence in such a way that makes it hard to use the contents of the output sentence to predict the contents of the input sentence. In this document we're mainly concerned with ciphers that output symbols from the plaintext alphabet i.e. $ A = A^\\prime $ but this doesn't have to be the case. You may have used one of these as a kid and we can represent it as:\n",
    "\n",
    "$$ E_{\\text{sub}}(S_A) : s_i \\rightarrow (s_i + n) \\bmod |A| , \\forall s_i \\in S_A $$"
   ]
  },
  {
   "cell_type": "code",
   "execution_count": 2,
   "metadata": {
    "pycharm": {
     "name": "#%%\n"
    }
   },
   "outputs": [
    {
     "name": "stdout",
     "output_type": "stream",
     "text": [
      "[7, 4, 11, 11, 14, 26, 22, 14, 17, 11, 3] -> [0, 24, 4, 4, 7, 19, 15, 7, 10, 4, 23]\n"
     ]
    }
   ],
   "source": [
    "def substitution_cipher(plain, n, character_set_size):\n",
    "    return [(x + n) % character_set_size for x in plain]\n",
    "\n",
    "\n",
    "def substitution_decipher(cipher, n, character_set_size):\n",
    "    return [(x - n) % character_set_size for x in cipher]\n",
    "\n",
    "\n",
    "import random\n",
    "\n",
    "n = random.randint(1, 26)\n",
    "plaintext = str_to_l(\"HELLO WORLD\")\n",
    "ciphertext = substitution_cipher(plaintext, n, len(alphabet))\n",
    "\n",
    "print(f\"{plaintext} -> {ciphertext}\")"
   ]
  },
  {
   "cell_type": "markdown",
   "source": [
    "Now of course this isn't a particularly secure cipher. Assuming that you know a simple substitution cipher is being used, you can brute force all 26 possible settings of $n$ (in your head if you really wanted to) until you recover something that looks like plaintext."
   ],
   "metadata": {
    "collapsed": false,
    "pycharm": {
     "name": "#%% md\n"
    }
   }
  },
  {
   "cell_type": "code",
   "execution_count": 3,
   "outputs": [
    {
     "name": "stdout",
     "output_type": "stream",
     "text": [
      " XDDGSOGJDW\n",
      "ZWCCFRNFICV\n",
      "YVBBEQMEHBU\n",
      "XUAADPLDGAT\n",
      "WT  COKCF S\n",
      "VSZZBNJBEZR\n",
      "URYYAMIADYQ\n",
      "TQXX LH CXP\n",
      "SPWWZKGZBWO\n",
      "ROVVYJFYAVN\n",
      "QNUUXIEX UM\n",
      "PMTTWHDWZTL\n",
      "OLSSVGCVYSK\n",
      "NKRRUFBUXRJ\n",
      "MJQQTEATWQI\n",
      "LIPPSD SVPH\n",
      "KHOORCZRUOG\n",
      "JGNNQBYQTNF\n",
      "IFMMPAXPSME\n",
      "HELLO WORLD ***\n",
      "GDKKNZVNQKC\n",
      "FCJJMYUMPJB\n",
      "EBIILXTLOIA\n",
      "DAHHKWSKNH \n",
      "C GGJVRJMGZ\n",
      "BZFFIUQILFY\n"
     ]
    }
   ],
   "source": [
    "# Try every possible setting of n\n",
    "for n in range(1, len(alphabet)):\n",
    "    s = l_to_str(substitution_decipher(ciphertext, n, len(alphabet)))\n",
    "    print(f\"{s}{' ***' if s == l_to_str(plaintext) else ''}\")"
   ],
   "metadata": {
    "collapsed": false,
    "pycharm": {
     "name": "#%%\n"
    }
   }
  },
  {
   "cell_type": "markdown",
   "source": [
    "## Polygraphic substitution ciphers\n",
    "\n",
    "Not strictly related to the other ciphers in this document (that are monographic i.e. operating on one input symbol at a time) but an interesting extension of the above. While the _unigram_ (operating on one symbol at a time) substitution cipher is trivial to implement, it is trivially easy to crack as there are only $ |A| $ possible schemes. The unigram substitution cipher can be extended by operating on blocks of $n$ symbols, or _n-grams_. For an alphabet $A$ there are $ |A|^n $ possible n-grams. Setting $n=2$ yields the symbol set:\n",
    "\n",
    "$$ A_2 = \\{ \\text{AA} = 0, \\text{AB} = 1, ..., \\text{\\_Z} = 727, \\text{\\_\\_} = 728\\}, |A_2| = 729 $$\n",
    "\n",
    "Substitution ciphers that operate on groups of symbols are known as polygraphic. The cipher below operates on bigrams."
   ],
   "metadata": {
    "collapsed": false,
    "pycharm": {
     "name": "#%% md\n"
    }
   }
  },
  {
   "cell_type": "code",
   "execution_count": 4,
   "outputs": [
    {
     "data": {
      "text/plain": "'HELLO WORLD'"
     },
     "execution_count": 4,
     "metadata": {},
     "output_type": "execute_result"
    }
   ],
   "source": [
    "bigrams = [f\"{x}{y}\" for x in alphabet for y in alphabet]\n",
    "bigram_dict = OrderedDict((s, i) for i, s in enumerate(bigrams))\n",
    "\n",
    "\n",
    "# Get the bigram representation of a string\n",
    "def str_to_bigram(str):\n",
    "    # Pad odd-length strings with a trailing space\n",
    "    str = str + \" \" if len(str) % 2 != 0 else str\n",
    "    return [bigram_dict[f\"{str[(x * 2)]}{str[((x * 2) + 1)]}\"] for x in range(0, int(len(str) / 2))]\n",
    "\n",
    "\n",
    "# Get a string representation of a bigram representation\n",
    "def bigram_to_str(indices):\n",
    "    items = list(bigram_dict.items())\n",
    "    return ''.join([items[x][0] for x in indices]).strip()\n",
    "\n",
    "\n",
    "bigram_to_str(str_to_bigram(\"HELLO WORLD\"))"
   ],
   "metadata": {
    "collapsed": false,
    "pycharm": {
     "name": "#%%\n"
    }
   }
  },
  {
   "cell_type": "markdown",
   "source": [
    "Using the same brute force technique we used to crack the unigram substitution cipher, we can test all 728 possible settings of $n$. This is still pretty trivial when you've got computer power but as late as World War 2 bigram substitution ciphers were used in the field to encrypt non-critical but time sensitive information as they could be implemented with pen, paper and a compact symbol table."
   ],
   "metadata": {
    "collapsed": false,
    "pycharm": {
     "name": "#%% md\n"
    }
   }
  },
  {
   "cell_type": "code",
   "execution_count": 5,
   "outputs": [
    {
     "name": "stdout",
     "output_type": "stream",
     "text": [
      "Y CGFVNJIGVV\n",
      "YZCFFUNIIFVU\n",
      "YYCEFTNHIEVT\n",
      "YXCDFSNGIDVS\n",
      "YWCCFRNFICVR\n",
      "YVCBFQNEIBVQ\n",
      "YUCAFPNDIAVP\n",
      "YTB FONCH VO\n",
      "YSBZFNNBHZVN\n",
      "YRBYFMNAHYVM\n",
      "YQBXFLM HXVL\n",
      "YPBWFKMZHWVK\n",
      "YOBVFJMYHVVJ\n",
      "YNBUFIMXHUVI\n",
      "YMBTFHMWHTVH\n",
      "YLBSFGMVHSVG\n",
      "YKBRFFMUHRVF\n",
      "YJBQFEMTHQVE\n",
      "YIBPFDMSHPVD\n",
      "YHBOFCMRHOVC\n",
      "YGBNFBMQHNVB\n",
      "YFBMFAMPHMVA\n",
      "YEBLE MOHLU\n",
      "YDBKEZMNHKUZ\n",
      "YCBJEYMMHJUY\n",
      "YBBIEXMLHIUX\n",
      "YABHEWMKHHUW\n",
      "X BGEVMJHGUV\n",
      "XZBFEUMIHFUU\n",
      "XYBEETMHHEUT\n",
      "XXBDESMGHDUS\n",
      "XWBCERMFHCUR\n",
      "XVBBEQMEHBUQ\n",
      "XUBAEPMDHAUP\n",
      "XTA EOMCG UO\n",
      "XSAZENMBGZUN\n",
      "XRAYEMMAGYUM\n",
      "XQAXELL GXUL\n",
      "XPAWEKLZGWUK\n",
      "XOAVEJLYGVUJ\n",
      "XNAUEILXGUUI\n",
      "XMATEHLWGTUH\n",
      "XLASEGLVGSUG\n",
      "XKAREFLUGRUF\n",
      "XJAQEELTGQUE\n",
      "XIAPEDLSGPUD\n",
      "XHAOECLRGOUC\n",
      "XGANEBLQGNUB\n",
      "XFAMEALPGMUA\n",
      "XEALD LOGLT\n",
      "XDAKDZLNGKTZ\n",
      "XCAJDYLMGJTY\n",
      "XBAIDXLLGITX\n",
      "XAAHDWLKGHTW\n",
      "W AGDVLJGGTV\n",
      "WZAFDULIGFTU\n",
      "WYAEDTLHGETT\n",
      "WXADDSLGGDTS\n",
      "WWACDRLFGCTR\n",
      "WVABDQLEGBTQ\n",
      "WUAADPLDGATP\n",
      "WT  DOLCF TO\n",
      "WS ZDNLBFZTN\n",
      "WR YDMLAFYTM\n",
      "WQ XDLK FXTL\n",
      "WP WDKKZFWTK\n",
      "WO VDJKYFVTJ\n",
      "WN UDIKXFUTI\n",
      "WM TDHKWFTTH\n",
      "WL SDGKVFSTG\n",
      "WK RDFKUFRTF\n",
      "WJ QDEKTFQTE\n",
      "WI PDDKSFPTD\n",
      "WH ODCKRFOTC\n",
      "WG NDBKQFNTB\n",
      "WF MDAKPFMTA\n",
      "WE LC KOFLS\n",
      "WD KCZKNFKSZ\n",
      "WC JCYKMFJSY\n",
      "WB ICXKLFISX\n",
      "WA HCWKKFHSW\n",
      "V  GCVKJFGSV\n",
      "VZ FCUKIFFSU\n",
      "VY ECTKHFEST\n",
      "VX DCSKGFDSS\n",
      "VW CCRKFFCSR\n",
      "VV BCQKEFBSQ\n",
      "VU ACPKDFASP\n",
      "VTZ COKCE SO\n",
      "VSZZCNKBEZSN\n",
      "VRZYCMKAEYSM\n",
      "VQZXCLJ EXSL\n",
      "VPZWCKJZEWSK\n",
      "VOZVCJJYEVSJ\n",
      "VNZUCIJXEUSI\n",
      "VMZTCHJWETSH\n",
      "VLZSCGJVESSG\n",
      "VKZRCFJUERSF\n",
      "VJZQCEJTEQSE\n",
      "VIZPCDJSEPSD\n",
      "VHZOCCJREOSC\n",
      "VGZNCBJQENSB\n",
      "VFZMCAJPEMSA\n",
      "VEZLB JOELR\n",
      "VDZKBZJNEKRZ\n",
      "VCZJBYJMEJRY\n",
      "VBZIBXJLEIRX\n",
      "VAZHBWJKEHRW\n",
      "U ZGBVJJEGRV\n",
      "UZZFBUJIEFRU\n",
      "UYZEBTJHEERT\n",
      "UXZDBSJGEDRS\n",
      "UWZCBRJFECRR\n",
      "UVZBBQJEEBRQ\n",
      "UUZABPJDEARP\n",
      "UTY BOJCD RO\n",
      "USYZBNJBDZRN\n",
      "URYYBMJADYRM\n",
      "UQYXBLI DXRL\n",
      "UPYWBKIZDWRK\n",
      "UOYVBJIYDVRJ\n",
      "UNYUBIIXDURI\n",
      "UMYTBHIWDTRH\n",
      "ULYSBGIVDSRG\n",
      "UKYRBFIUDRRF\n",
      "UJYQBEITDQRE\n",
      "UIYPBDISDPRD\n",
      "UHYOBCIRDORC\n",
      "UGYNBBIQDNRB\n",
      "UFYMBAIPDMRA\n",
      "UEYLA IODLQ\n",
      "UDYKAZINDKQZ\n",
      "UCYJAYIMDJQY\n",
      "UBYIAXILDIQX\n",
      "UAYHAWIKDHQW\n",
      "T YGAVIJDGQV\n",
      "TZYFAUIIDFQU\n",
      "TYYEATIHDEQT\n",
      "TXYDASIGDDQS\n",
      "TWYCARIFDCQR\n",
      "TVYBAQIEDBQQ\n",
      "TUYAAPIDDAQP\n",
      "TTX AOICC QO\n",
      "TSXZANIBCZQN\n",
      "TRXYAMIACYQM\n",
      "TQXXALH CXQL\n",
      "TPXWAKHZCWQK\n",
      "TOXVAJHYCVQJ\n",
      "TNXUAIHXCUQI\n",
      "TMXTAHHWCTQH\n",
      "TLXSAGHVCSQG\n",
      "TKXRAFHUCRQF\n",
      "TJXQAEHTCQQE\n",
      "TIXPADHSCPQD\n",
      "THXOACHRCOQC\n",
      "TGXNABHQCNQB\n",
      "TFXMAAHPCMQA\n",
      "TEXL  HOCLP\n",
      "TDXK ZHNCKPZ\n",
      "TCXJ YHMCJPY\n",
      "TBXI XHLCIPX\n",
      "TAXH WHKCHPW\n",
      "S XG VHJCGPV\n",
      "SZXF UHICFPU\n",
      "SYXE THHCEPT\n",
      "SXXD SHGCDPS\n",
      "SWXC RHFCCPR\n",
      "SVXB QHECBPQ\n",
      "SUXA PHDCAPP\n",
      "STW  OHCB PO\n",
      "SSWZ NHBBZPN\n",
      "SRWY MHABYPM\n",
      "SQWX LG BXPL\n",
      "SPWW KGZBWPK\n",
      "SOWV JGYBVPJ\n",
      "SNWU IGXBUPI\n",
      "SMWT HGWBTPH\n",
      "SLWS GGVBSPG\n",
      "SKWR FGUBRPF\n",
      "SJWQ EGTBQPE\n",
      "SIWP DGSBPPD\n",
      "SHWO CGRBOPC\n",
      "SGWN BGQBNPB\n",
      "SFWM AGPBMPA\n",
      "SEWLZ GOBLO\n",
      "SDWKZZGNBKOZ\n",
      "SCWJZYGMBJOY\n",
      "SBWIZXGLBIOX\n",
      "SAWHZWGKBHOW\n",
      "R WGZVGJBGOV\n",
      "RZWFZUGIBFOU\n",
      "RYWEZTGHBEOT\n",
      "RXWDZSGGBDOS\n",
      "RWWCZRGFBCOR\n",
      "RVWBZQGEBBOQ\n",
      "RUWAZPGDBAOP\n",
      "RTV ZOGCA OO\n",
      "RSVZZNGBAZON\n",
      "RRVYZMGAAYOM\n",
      "RQVXZLF AXOL\n",
      "RPVWZKFZAWOK\n",
      "ROVVZJFYAVOJ\n",
      "RNVUZIFXAUOI\n",
      "RMVTZHFWATOH\n",
      "RLVSZGFVASOG\n",
      "RKVRZFFUAROF\n",
      "RJVQZEFTAQOE\n",
      "RIVPZDFSAPOD\n",
      "RHVOZCFRAOOC\n",
      "RGVNZBFQANOB\n",
      "RFVMZAFPAMOA\n",
      "REVLY FOALN\n",
      "RDVKYZFNAKNZ\n",
      "RCVJYYFMAJNY\n",
      "RBVIYXFLAINX\n",
      "RAVHYWFKAHNW\n",
      "Q VGYVFJAGNV\n",
      "QZVFYUFIAFNU\n",
      "QYVEYTFHAENT\n",
      "QXVDYSFGADNS\n",
      "QWVCYRFFACNR\n",
      "QVVBYQFEABNQ\n",
      "QUVAYPFDAANP\n",
      "QTU YOFC  NO\n",
      "QSUZYNFB ZNN\n",
      "QRUYYMFA YNM\n",
      "QQUXYLE  XNL\n",
      "QPUWYKEZ WNK\n",
      "QOUVYJEY VNJ\n",
      "QNUUYIEX UNI\n",
      "QMUTYHEW TNH\n",
      "QLUSYGEV SNG\n",
      "QKURYFEU RNF\n",
      "QJUQYEET QNE\n",
      "QIUPYDES PND\n",
      "QHUOYCER ONC\n",
      "QGUNYBEQ NNB\n",
      "QFUMYAEP MNA\n",
      "QEULX EO LM\n",
      "QDUKXZEN KMZ\n",
      "QCUJXYEM JMY\n",
      "QBUIXXEL IMX\n",
      "QAUHXWEK HMW\n",
      "P UGXVEJ GMV\n",
      "PZUFXUEI FMU\n",
      "PYUEXTEH EMT\n",
      "PXUDXSEG DMS\n",
      "PWUCXREF CMR\n",
      "PVUBXQEE BMQ\n",
      "PUUAXPED AMP\n",
      "PTT XOECZ MO\n",
      "PSTZXNEBZZMN\n",
      "PRTYXMEAZYMM\n",
      "PQTXXLD ZXML\n",
      "PPTWXKDZZWMK\n",
      "POTVXJDYZVMJ\n",
      "PNTUXIDXZUMI\n",
      "PMTTXHDWZTMH\n",
      "PLTSXGDVZSMG\n",
      "PKTRXFDUZRMF\n",
      "PJTQXEDTZQME\n",
      "PITPXDDSZPMD\n",
      "PHTOXCDRZOMC\n",
      "PGTNXBDQZNMB\n",
      "PFTMXADPZMMA\n",
      "PETLW DOZLL\n",
      "PDTKWZDNZKLZ\n",
      "PCTJWYDMZJLY\n",
      "PBTIWXDLZILX\n",
      "PATHWWDKZHLW\n",
      "O TGWVDJZGLV\n",
      "OZTFWUDIZFLU\n",
      "OYTEWTDHZELT\n",
      "OXTDWSDGZDLS\n",
      "OWTCWRDFZCLR\n",
      "OVTBWQDEZBLQ\n",
      "OUTAWPDDZALP\n",
      "OTS WODCY LO\n",
      "OSSZWNDBYZLN\n",
      "ORSYWMDAYYLM\n",
      "OQSXWLC YXLL\n",
      "OPSWWKCZYWLK\n",
      "OOSVWJCYYVLJ\n",
      "ONSUWICXYULI\n",
      "OMSTWHCWYTLH\n",
      "OLSSWGCVYSLG\n",
      "OKSRWFCUYRLF\n",
      "OJSQWECTYQLE\n",
      "OISPWDCSYPLD\n",
      "OHSOWCCRYOLC\n",
      "OGSNWBCQYNLB\n",
      "OFSMWACPYMLA\n",
      "OESLV COYLK\n",
      "ODSKVZCNYKKZ\n",
      "OCSJVYCMYJKY\n",
      "OBSIVXCLYIKX\n",
      "OASHVWCKYHKW\n",
      "N SGVVCJYGKV\n",
      "NZSFVUCIYFKU\n",
      "NYSEVTCHYEKT\n",
      "NXSDVSCGYDKS\n",
      "NWSCVRCFYCKR\n",
      "NVSBVQCEYBKQ\n",
      "NUSAVPCDYAKP\n",
      "NTR VOCCX KO\n",
      "NSRZVNCBXZKN\n",
      "NRRYVMCAXYKM\n",
      "NQRXVLB XXKL\n",
      "NPRWVKBZXWKK\n",
      "NORVVJBYXVKJ\n",
      "NNRUVIBXXUKI\n",
      "NMRTVHBWXTKH\n",
      "NLRSVGBVXSKG\n",
      "NKRRVFBUXRKF\n",
      "NJRQVEBTXQKE\n",
      "NIRPVDBSXPKD\n",
      "NHROVCBRXOKC\n",
      "NGRNVBBQXNKB\n",
      "NFRMVABPXMKA\n",
      "NERLU BOXLJ\n",
      "NDRKUZBNXKJZ\n",
      "NCRJUYBMXJJY\n",
      "NBRIUXBLXIJX\n",
      "NARHUWBKXHJW\n",
      "M RGUVBJXGJV\n",
      "MZRFUUBIXFJU\n",
      "MYREUTBHXEJT\n",
      "MXRDUSBGXDJS\n",
      "MWRCURBFXCJR\n",
      "MVRBUQBEXBJQ\n",
      "MURAUPBDXAJP\n",
      "MTQ UOBCW JO\n",
      "MSQZUNBBWZJN\n",
      "MRQYUMBAWYJM\n",
      "MQQXULA WXJL\n",
      "MPQWUKAZWWJK\n",
      "MOQVUJAYWVJJ\n",
      "MNQUUIAXWUJI\n",
      "MMQTUHAWWTJH\n",
      "MLQSUGAVWSJG\n",
      "MKQRUFAUWRJF\n",
      "MJQQUEATWQJE\n",
      "MIQPUDASWPJD\n",
      "MHQOUCARWOJC\n",
      "MGQNUBAQWNJB\n",
      "MFQMUAAPWMJA\n",
      "MEQLT AOWLI\n",
      "MDQKTZANWKIZ\n",
      "MCQJTYAMWJIY\n",
      "MBQITXALWIIX\n",
      "MAQHTWAKWHIW\n",
      "L QGTVAJWGIV\n",
      "LZQFTUAIWFIU\n",
      "LYQETTAHWEIT\n",
      "LXQDTSAGWDIS\n",
      "LWQCTRAFWCIR\n",
      "LVQBTQAEWBIQ\n",
      "LUQATPADWAIP\n",
      "LTP TOACV IO\n",
      "LSPZTNABVZIN\n",
      "LRPYTMAAVYIM\n",
      "LQPXTL  VXIL\n",
      "LPPWTK ZVWIK\n",
      "LOPVTJ YVVIJ\n",
      "LNPUTI XVUII\n",
      "LMPTTH WVTIH\n",
      "LLPSTG VVSIG\n",
      "LKPRTF UVRIF\n",
      "LJPQTE TVQIE\n",
      "LIPPTD SVPID\n",
      "LHPOTC RVOIC\n",
      "LGPNTB QVNIB\n",
      "LFPMTA PVMIA\n",
      "LEPLS  OVLH\n",
      "LDPKSZ NVKHZ\n",
      "LCPJSY MVJHY\n",
      "LBPISX LVIHX\n",
      "LAPHSW KVHHW\n",
      "K PGSV JVGHV\n",
      "KZPFSU IVFHU\n",
      "KYPEST HVEHT\n",
      "KXPDSS GVDHS\n",
      "KWPCSR FVCHR\n",
      "KVPBSQ EVBHQ\n",
      "KUPASP DVAHP\n",
      "KTO SO CU HO\n",
      "KSOZSN BUZHN\n",
      "KROYSM AUYHM\n",
      "KQOXSLZ UXHL\n",
      "KPOWSKZZUWHK\n",
      "KOOVSJZYUVHJ\n",
      "KNOUSIZXUUHI\n",
      "KMOTSHZWUTHH\n",
      "KLOSSGZVUSHG\n",
      "KKORSFZUURHF\n",
      "KJOQSEZTUQHE\n",
      "KIOPSDZSUPHD\n",
      "KHOOSCZRUOHC\n",
      "KGONSBZQUNHB\n",
      "KFOMSAZPUMHA\n",
      "KEOLR ZOULG\n",
      "KDOKRZZNUKGZ\n",
      "KCOJRYZMUJGY\n",
      "KBOIRXZLUIGX\n",
      "KAOHRWZKUHGW\n",
      "J OGRVZJUGGV\n",
      "JZOFRUZIUFGU\n",
      "JYOERTZHUEGT\n",
      "JXODRSZGUDGS\n",
      "JWOCRRZFUCGR\n",
      "JVOBRQZEUBGQ\n",
      "JUOARPZDUAGP\n",
      "JTN ROZCT GO\n",
      "JSNZRNZBTZGN\n",
      "JRNYRMZATYGM\n",
      "JQNXRLY TXGL\n",
      "JPNWRKYZTWGK\n",
      "JONVRJYYTVGJ\n",
      "JNNURIYXTUGI\n",
      "JMNTRHYWTTGH\n",
      "JLNSRGYVTSGG\n",
      "JKNRRFYUTRGF\n",
      "JJNQREYTTQGE\n",
      "JINPRDYSTPGD\n",
      "JHNORCYRTOGC\n",
      "JGNNRBYQTNGB\n",
      "JFNMRAYPTMGA\n",
      "JENLQ YOTLF\n",
      "JDNKQZYNTKFZ\n",
      "JCNJQYYMTJFY\n",
      "JBNIQXYLTIFX\n",
      "JANHQWYKTHFW\n",
      "I NGQVYJTGFV\n",
      "IZNFQUYITFFU\n",
      "IYNEQTYHTEFT\n",
      "IXNDQSYGTDFS\n",
      "IWNCQRYFTCFR\n",
      "IVNBQQYETBFQ\n",
      "IUNAQPYDTAFP\n",
      "ITM QOYCS FO\n",
      "ISMZQNYBSZFN\n",
      "IRMYQMYASYFM\n",
      "IQMXQLX SXFL\n",
      "IPMWQKXZSWFK\n",
      "IOMVQJXYSVFJ\n",
      "INMUQIXXSUFI\n",
      "IMMTQHXWSTFH\n",
      "ILMSQGXVSSFG\n",
      "IKMRQFXUSRFF\n",
      "IJMQQEXTSQFE\n",
      "IIMPQDXSSPFD\n",
      "IHMOQCXRSOFC\n",
      "IGMNQBXQSNFB\n",
      "IFMMQAXPSMFA\n",
      "IEMLP XOSLE\n",
      "IDMKPZXNSKEZ\n",
      "ICMJPYXMSJEY\n",
      "IBMIPXXLSIEX\n",
      "IAMHPWXKSHEW\n",
      "H MGPVXJSGEV\n",
      "HZMFPUXISFEU\n",
      "HYMEPTXHSEET\n",
      "HXMDPSXGSDES\n",
      "HWMCPRXFSCER\n",
      "HVMBPQXESBEQ\n",
      "HUMAPPXDSAEP\n",
      "HTL POXCR EO\n",
      "HSLZPNXBRZEN\n",
      "HRLYPMXARYEM\n",
      "HQLXPLW RXEL\n",
      "HPLWPKWZRWEK\n",
      "HOLVPJWYRVEJ\n",
      "HNLUPIWXRUEI\n",
      "HMLTPHWWRTEH\n",
      "HLLSPGWVRSEG\n",
      "HKLRPFWURREF\n",
      "HJLQPEWTRQEE\n",
      "HILPPDWSRPED\n",
      "HHLOPCWRROEC\n",
      "HGLNPBWQRNEB\n",
      "HFLMPAWPRMEA\n",
      "HELLO WORLD ***\n",
      "HDLKOZWNRKDZ\n",
      "HCLJOYWMRJDY\n",
      "HBLIOXWLRIDX\n",
      "HALHOWWKRHDW\n",
      "G LGOVWJRGDV\n",
      "GZLFOUWIRFDU\n",
      "GYLEOTWHREDT\n",
      "GXLDOSWGRDDS\n",
      "GWLCORWFRCDR\n",
      "GVLBOQWERBDQ\n",
      "GULAOPWDRADP\n",
      "GTK OOWCQ DO\n",
      "GSKZONWBQZDN\n",
      "GRKYOMWAQYDM\n",
      "GQKXOLV QXDL\n",
      "GPKWOKVZQWDK\n",
      "GOKVOJVYQVDJ\n",
      "GNKUOIVXQUDI\n",
      "GMKTOHVWQTDH\n",
      "GLKSOGVVQSDG\n",
      "GKKROFVUQRDF\n",
      "GJKQOEVTQQDE\n",
      "GIKPODVSQPDD\n",
      "GHKOOCVRQODC\n",
      "GGKNOBVQQNDB\n",
      "GFKMOAVPQMDA\n",
      "GEKLN VOQLC\n",
      "GDKKNZVNQKCZ\n",
      "GCKJNYVMQJCY\n",
      "GBKINXVLQICX\n",
      "GAKHNWVKQHCW\n",
      "F KGNVVJQGCV\n",
      "FZKFNUVIQFCU\n",
      "FYKENTVHQECT\n",
      "FXKDNSVGQDCS\n",
      "FWKCNRVFQCCR\n",
      "FVKBNQVEQBCQ\n",
      "FUKANPVDQACP\n",
      "FTJ NOVCP CO\n",
      "FSJZNNVBPZCN\n",
      "FRJYNMVAPYCM\n",
      "FQJXNLU PXCL\n",
      "FPJWNKUZPWCK\n",
      "FOJVNJUYPVCJ\n",
      "FNJUNIUXPUCI\n",
      "FMJTNHUWPTCH\n",
      "FLJSNGUVPSCG\n",
      "FKJRNFUUPRCF\n",
      "FJJQNEUTPQCE\n",
      "FIJPNDUSPPCD\n",
      "FHJONCURPOCC\n",
      "FGJNNBUQPNCB\n",
      "FFJMNAUPPMCA\n",
      "FEJLM UOPLB\n",
      "FDJKMZUNPKBZ\n",
      "FCJJMYUMPJBY\n",
      "FBJIMXULPIBX\n",
      "FAJHMWUKPHBW\n",
      "E JGMVUJPGBV\n",
      "EZJFMUUIPFBU\n",
      "EYJEMTUHPEBT\n",
      "EXJDMSUGPDBS\n",
      "EWJCMRUFPCBR\n",
      "EVJBMQUEPBBQ\n",
      "EUJAMPUDPABP\n",
      "ETI MOUCO BO\n",
      "ESIZMNUBOZBN\n",
      "ERIYMMUAOYBM\n",
      "EQIXMLT OXBL\n",
      "EPIWMKTZOWBK\n",
      "EOIVMJTYOVBJ\n",
      "ENIUMITXOUBI\n",
      "EMITMHTWOTBH\n",
      "ELISMGTVOSBG\n",
      "EKIRMFTUORBF\n",
      "EJIQMETTOQBE\n",
      "EIIPMDTSOPBD\n",
      "EHIOMCTROOBC\n",
      "EGINMBTQONBB\n",
      "EFIMMATPOMBA\n",
      "EEILL TOOLA\n",
      "EDIKLZTNOKAZ\n",
      "ECIJLYTMOJAY\n",
      "EBIILXTLOIAX\n",
      "EAIHLWTKOHAW\n",
      "D IGLVTJOGAV\n",
      "DZIFLUTIOFAU\n",
      "DYIELTTHOEAT\n",
      "DXIDLSTGODAS\n",
      "DWICLRTFOCAR\n",
      "DVIBLQTEOBAQ\n",
      "DUIALPTDOAAP\n",
      "DTH LOTCN AO\n",
      "DSHZLNTBNZAN\n",
      "DRHYLMTANYAM\n",
      "DQHXLLS NXAL\n",
      "DPHWLKSZNWAK\n",
      "DOHVLJSYNVAJ\n",
      "DNHULISXNUAI\n",
      "DMHTLHSWNTAH\n",
      "DLHSLGSVNSAG\n",
      "DKHRLFSUNRAF\n",
      "DJHQLESTNQAE\n",
      "DIHPLDSSNPAD\n",
      "DHHOLCSRNOAC\n",
      "DGHNLBSQNNAB\n",
      "DFHMLASPNMAA\n",
      "DEHLK SONL\n",
      "DDHKKZSNNK Z\n",
      "DCHJKYSMNJ Y\n",
      "DBHIKXSLNI X\n",
      "DAHHKWSKNH W\n",
      "C HGKVSJNG V\n",
      "CZHFKUSINF U\n",
      "CYHEKTSHNE T\n",
      "CXHDKSSGND S\n",
      "CWHCKRSFNC R\n",
      "CVHBKQSENB Q\n",
      "CUHAKPSDNA P\n",
      "CTG KOSCM  O\n",
      "CSGZKNSBMZ N\n",
      "CRGYKMSAMY M\n",
      "CQGXKLR MX L\n",
      "CPGWKKRZMW K\n",
      "COGVKJRYMV J\n",
      "CNGUKIRXMU I\n",
      "CMGTKHRWMT H\n",
      "CLGSKGRVMS G\n",
      "CKGRKFRUMR F\n",
      "CJGQKERTMQ E\n",
      "CIGPKDRSMP D\n",
      "CHGOKCRRMO C\n",
      "CGGNKBRQMN B\n",
      "CFGMKARPMM A\n",
      "CEGLJ ROMLZ\n",
      "CDGKJZRNMKZZ\n",
      "CCGJJYRMMJZY\n",
      "CBGIJXRLMIZX\n",
      "CAGHJWRKMHZW\n",
      "B GGJVRJMGZV\n",
      "BZGFJURIMFZU\n",
      "BYGEJTRHMEZT\n",
      "BXGDJSRGMDZS\n",
      "BWGCJRRFMCZR\n",
      "BVGBJQREMBZQ\n",
      "BUGAJPRDMAZP\n",
      "BTF JORCL ZO\n",
      "BSFZJNRBLZZN\n",
      "BRFYJMRALYZM\n",
      "BQFXJLQ LXZL\n",
      "BPFWJKQZLWZK\n",
      "BOFVJJQYLVZJ\n",
      "BNFUJIQXLUZI\n",
      "BMFTJHQWLTZH\n",
      "BLFSJGQVLSZG\n",
      "BKFRJFQULRZF\n",
      "BJFQJEQTLQZE\n",
      "BIFPJDQSLPZD\n",
      "BHFOJCQRLOZC\n",
      "BGFNJBQQLNZB\n",
      "BFFMJAQPLMZA\n",
      "BEFLI QOLLY\n",
      "BDFKIZQNLKYZ\n",
      "BCFJIYQMLJYY\n",
      "BBFIIXQLLIYX\n",
      "BAFHIWQKLHYW\n",
      "A FGIVQJLGYV\n",
      "AZFFIUQILFYU\n",
      "AYFEITQHLEYT\n",
      "AXFDISQGLDYS\n",
      "AWFCIRQFLCYR\n",
      "AVFBIQQELBYQ\n",
      "AUFAIPQDLAYP\n",
      "ATE IOQCK YO\n",
      "ASEZINQBKZYN\n",
      "AREYIMQAKYYM\n",
      "AQEXILP KXYL\n",
      "APEWIKPZKWYK\n",
      "AOEVIJPYKVYJ\n",
      "ANEUIIPXKUYI\n",
      "AMETIHPWKTYH\n",
      "ALESIGPVKSYG\n",
      "AKERIFPUKRYF\n",
      "AJEQIEPTKQYE\n",
      "AIEPIDPSKPYD\n",
      "AHEOICPRKOYC\n",
      "AGENIBPQKNYB\n",
      "AFEMIAPPKMYA\n",
      "AEELH POKLX\n",
      "ADEKHZPNKKXZ\n",
      "ACEJHYPMKJXY\n",
      "ABEIHXPLKIXX\n",
      "AAEHHWPKKHXW\n",
      "EGHVPJKGXV\n",
      "ZEFHUPIKFXU\n",
      "YEEHTPHKEXT\n",
      "XEDHSPGKDXS\n",
      "WECHRPFKCXR\n",
      "VEBHQPEKBXQ\n",
      "UEAHPPDKAXP\n",
      "TD HOPCJ XO\n",
      "SDZHNPBJZXN\n",
      "RDYHMPAJYXM\n",
      "QDXHLO JXXL\n",
      "PDWHKOZJWXK\n",
      "ODVHJOYJVXJ\n",
      "NDUHIOXJUXI\n",
      "MDTHHOWJTXH\n",
      "LDSHGOVJSXG\n",
      "KDRHFOUJRXF\n",
      "JDQHEOTJQXE\n",
      "IDPHDOSJPXD\n",
      "HDOHCORJOXC\n",
      "GDNHBOQJNXB\n",
      "FDMHAOPJMXA\n",
      "EDLG OOJLW\n",
      "DDKGZONJKWZ\n",
      "CDJGYOMJJWY\n",
      "BDIGXOLJIWX\n",
      "ADHGWOKJHWW\n",
      "Z DGGVOJJGWV\n",
      "ZZDFGUOIJFWU\n",
      "ZYDEGTOHJEWT\n",
      "ZXDDGSOGJDWS\n",
      "ZWDCGROFJCWR\n",
      "ZVDBGQOEJBWQ\n",
      "ZUDAGPODJAWP\n",
      "ZTC GOOCI WO\n",
      "ZSCZGNOBIZWN\n",
      "ZRCYGMOAIYWM\n",
      "ZQCXGLN IXWL\n",
      "ZPCWGKNZIWWK\n",
      "ZOCVGJNYIVWJ\n",
      "ZNCUGINXIUWI\n",
      "ZMCTGHNWITWH\n",
      "ZLCSGGNVISWG\n",
      "ZKCRGFNUIRWF\n",
      "ZJCQGENTIQWE\n",
      "ZICPGDNSIPWD\n",
      "ZHCOGCNRIOWC\n",
      "ZGCNGBNQINWB\n",
      "ZFCMGANPIMWA\n",
      "ZECLF NOILV\n",
      "ZDCKFZNNIKVZ\n",
      "ZCCJFYNMIJVY\n",
      "ZBCIFXNLIIVX\n"
     ]
    }
   ],
   "source": [
    "n_bigram = random.randint(1, len(bigrams))\n",
    "plaintext = str_to_bigram(\"HELLO WORLD\")\n",
    "ciphertext = substitution_cipher(plaintext, n_bigram, len(bigrams))\n",
    "\n",
    "# Try every possible setting of n\n",
    "for n in range(1, len(bigrams)):\n",
    "    s = bigram_to_str(substitution_decipher(ciphertext, n, len(bigrams)))\n",
    "    print(f\"{s}{' ***' if s == bigram_to_str(plaintext) else ''}\")"
   ],
   "metadata": {
    "collapsed": false,
    "pycharm": {
     "name": "#%%\n"
    }
   }
  },
  {
   "cell_type": "markdown",
   "source": [
    "## More complex substitution ciphers\n",
    "\n",
    "There are $ |A|! $ possible simple substitution schemes (or _permutations_) for a given unigram alphabet. So far we've only looked at shifting plaintext symbols by some fixed amount to yield ciphertext but there are other options. One common strategy (in use for over 400 years) uses a key, shared between sender and receiver (making it a _symmetric_ cipher) to determine the substitution mapping. For example the key $ \\text{ENIGMA} $ might describe the following substitution:\n",
    "\n",
    "$$ \\text{ABCDEFGHIJKLMNOPQRSTUVWXYZ_} \\rightarrow \\text{ENIGMABCDFHJKLNOPQRSTUVWXYZ_} $$\n",
    "\n"
   ],
   "metadata": {
    "collapsed": false,
    "pycharm": {
     "name": "#%% md\n"
    }
   }
  },
  {
   "cell_type": "code",
   "execution_count": 6,
   "outputs": [
    {
     "name": "stdout",
     "output_type": "stream",
     "text": [
      "[10, 0, 13, 13, 14, 26, 22, 14, 17, 13, 8]\n"
     ]
    },
    {
     "data": {
      "text/plain": "'HELLO WORLD'"
     },
     "execution_count": 6,
     "metadata": {},
     "output_type": "execute_result"
    }
   ],
   "source": [
    "def keyed_substitution_cipher(plain, key):\n",
    "    substitution_mapping = f\"{key}{''.join(c if c not in key else '' for c in alphabet)}\"\n",
    "    return [substitution_mapping.index(x) for x in plain]\n",
    "\n",
    "\n",
    "def keyed_substitution_decipher(cipher, key):\n",
    "    substitution_mapping = f\"{key}{''.join(c if c not in key else '' for c in alphabet)}\"\n",
    "    return ''.join([substitution_mapping[x] for x in cipher])\n",
    "\n",
    "\n",
    "key = \"ENIGMA\"\n",
    "plain = \"HELLO WORLD\"\n",
    "cipher = keyed_substitution_cipher(plain, key)\n",
    "\n",
    "print(cipher)\n",
    "\n",
    "keyed_substitution_decipher(cipher, key)[0:1000]"
   ],
   "metadata": {
    "collapsed": false,
    "pycharm": {
     "name": "#%%\n"
    }
   }
  },
  {
   "cell_type": "markdown",
   "source": [
    "This is an improvement on the simple substitution cipher as the brute force approach from above won't work - They keyspace is too large."
   ],
   "metadata": {
    "collapsed": false,
    "pycharm": {
     "name": "#%% md\n"
    }
   }
  },
  {
   "cell_type": "markdown",
   "source": [
    "# Polyalphabetic ciphers\n",
    "\n",
    "Like simple substitution cipher, polyalphabetic ciphers are ciphers that operate on single plaintext symbols and map them to single symbols in the ciphertext. Unlike simple substitution cipher, the polyalphabetic encryption function also takes as an argument the position of the plaintext symbol. In theory in this way we can encrypt the plaintext using a different substitution scheme for each symbol:\n",
    "\n",
    "$$ E_{\\text{poly}}(S_A) : i, s_i \\rightarrow \\text{key}_i(s_i) , \\forall s_i \\in S_A $$\n",
    "\n",
    "Where $\\text{key}_i()$ is the substitution function for symbol $i$. The term _key progression_ refers to the mechanism by which the key is determined for each symbol in the plaintext. One of the simplest key progressions can be implemented by taking the simple substitution cipher and making $n$ a function of $i$:\n",
    "\n",
    "$$ n_i = i $$"
   ],
   "metadata": {
    "collapsed": false,
    "pycharm": {
     "name": "#%% md\n"
    }
   }
  },
  {
   "cell_type": "code",
   "execution_count": 7,
   "outputs": [
    {
     "name": "stdout",
     "output_type": "stream",
     "text": [
      "HELLO WORLD -> HFNOSEBVZUN -> HELLO WORLD\n"
     ]
    }
   ],
   "source": [
    "def polyalphabetic_cipher(plain, character_set_size):\n",
    "    return [(x + i) % character_set_size for i, x in enumerate(plain)]\n",
    "\n",
    "\n",
    "def polyalphabetic_decipher(cipher, character_set_size):\n",
    "    return [(x - i) % character_set_size for i, x in enumerate(cipher)]\n",
    "\n",
    "\n",
    "plaintext = str_to_l(\"HELLO WORLD\")\n",
    "ciphertext = polyalphabetic_cipher(plaintext, len(alphabet))\n",
    "\n",
    "print(f\"{l_to_str(plaintext)} -> {l_to_str(ciphertext)} -> {l_to_str(polyalphabetic_decipher(ciphertext, len(alphabet)))}\")"
   ],
   "metadata": {
    "collapsed": false,
    "pycharm": {
     "name": "#%%\n"
    }
   }
  },
  {
   "cell_type": "markdown",
   "source": [
    "This is slightly more secure than the simple substitution cipher but (as we'll see) it's still easy to crack. The fundamental issue is that the key progression is easy to guess (just add one each time). Ideally the key progression of a substitution cipher should be completely unpredictable (a _random permutation_ for each setting of $i$).\n",
    "\n",
    "It also has a short _period_ i.e. the number of plaintext symbols that can be encrypted before a key gets reused is small. For this cipher it's easy to see that the period is $|A|$.\n",
    "\n",
    "Interestingly (and from what I can tell) even though they're very different to classical ciphers, modern block ciphers (e.g. AES) are secure as the key space is large, the key progression is securely pseudorandom and the period is extremely long. See [here](https://crypto.stackexchange.com/questions/3867/what-is-difference-between-prg-prf-and-prp) and [here](https://security.stackexchange.com/questions/30170/after-how-much-data-encryption-aes-256-we-should-change-key) for a starting point to learn more about this."
   ],
   "metadata": {
    "collapsed": false,
    "pycharm": {
     "name": "#%% md\n"
    }
   }
  },
  {
   "cell_type": "markdown",
   "source": [
    "## Frequency analysis\n",
    "\n",
    "A feature of all of the ciphers discussed so far is that the enciphered message still contains information that can help us recover the plaintext from the ciphertext. Looking at the chipertext generated from the keyed substitution cipher above, the first 5 characters tell us a lot about the structure of the first word\n",
    "\n",
    "$$ [10, 0, 13, 13, 14] $$\n",
    "\n",
    "4 different letters are present and one letter appears twice, sequentially in positions 2 and 3. Using a freely available online word list we can start to narrow down the options:"
   ],
   "metadata": {
    "collapsed": false,
    "pycharm": {
     "name": "#%% md\n"
    }
   }
  },
  {
   "cell_type": "code",
   "execution_count": 8,
   "outputs": [
    {
     "name": "stdout",
     "output_type": "stream",
     "text": [
      "Pickle not found, running loader for key: word_list\n"
     ]
    },
    {
     "data": {
      "text/plain": "['AARDVARK',\n 'AARDWOLF',\n 'AARON',\n 'ABACK',\n 'ABACUS',\n 'ABAFT',\n 'ABALONE',\n 'ABANDON',\n 'ABANDONED',\n 'ABANDONMENT']"
     },
     "execution_count": 8,
     "metadata": {},
     "output_type": "execute_result"
    }
   ],
   "source": [
    "import requests\n",
    "import pickle\n",
    "\n",
    "\n",
    "def pkl_cache(loader, key):\n",
    "    try:\n",
    "        obj = pickle.load(open(f\"{key}.pkl\", \"rb\"))\n",
    "    except Exception as e:\n",
    "        print(f\"Pickle not found, running loader for key: {key}\")\n",
    "        obj = loader()\n",
    "        pickle.dump(obj, open(f\"{key}.pkl\", \"wb\"))\n",
    "\n",
    "    return obj\n",
    "\n",
    "\n",
    "word_list = pkl_cache(\n",
    "    lambda: requests.get(\"http://www.mieliestronk.com/corncob_caps.txt\").content.decode(\"utf-8\").splitlines(),\n",
    "    \"word_list\")\n",
    "word_list[0:10]"
   ],
   "metadata": {
    "collapsed": false,
    "pycharm": {
     "name": "#%%\n"
    }
   }
  },
  {
   "cell_type": "code",
   "source": [
    "[w for w in word_list if len(w) == 5\n",
    " and w[2] == w[3]\n",
    " and w[0] != w[1]\n",
    " and w[1] != w[2]\n",
    " and w[0] != w[2]\n",
    " and w[3] != w[4]\n",
    " and w[0] != w[4]\n",
    " and w[1] != w[4]\n",
    " ]"
   ],
   "metadata": {
    "collapsed": false,
    "pycharm": {
     "name": "#%%\n"
    }
   },
   "execution_count": 9,
   "outputs": [
    {
     "data": {
      "text/plain": "['AFOOT',\n 'ALOOF',\n 'BADDY',\n 'BAGGY',\n 'BALLS',\n 'BANNS',\n 'BARRE',\n 'BATTY',\n 'BELLS',\n 'BELLY',\n 'BERRY',\n 'BEVVY',\n 'BILLS',\n 'BILLY',\n 'BITTS',\n 'BITTY',\n 'BLEED',\n 'BLEEP',\n 'BLOOD',\n 'BLOOM',\n 'BOGGY',\n 'BONNY',\n 'BOSSY',\n 'BREED',\n 'BROOD',\n 'BROOK',\n 'BROOM',\n 'BUDDY',\n 'BUFFS',\n 'BUGGY',\n 'BULLS',\n 'BULLY',\n 'BUNNY',\n 'BUTTS',\n 'CABBY',\n 'CADDY',\n 'CALLS',\n 'CANNY',\n 'CARRY',\n 'CELLO',\n 'CELLS',\n 'CHEEK',\n 'CHEEP',\n 'CHEER',\n 'COMMA',\n 'CREED',\n 'CREEK',\n 'CREEL',\n 'CREEP',\n 'CROOK',\n 'CROON',\n 'CUFFS',\n 'CULLS',\n 'CURRY',\n 'DAFFY',\n 'DALLY',\n 'DELLS',\n 'DILLY',\n 'DITTO',\n 'DITTY',\n 'DIZZY',\n 'DOGGY',\n 'DOLLS',\n 'DOLLY',\n 'DOTTY',\n 'DROOL',\n 'DROOP',\n 'DULLS',\n 'DULLY',\n 'DUMMY',\n 'FALLS',\n 'FANNY',\n 'FATTY',\n 'FELLS',\n 'FERRY',\n 'FILLS',\n 'FILLY',\n 'FIZZY',\n 'FLEES',\n 'FLEET',\n 'FLOOD',\n 'FLOOR',\n 'FOGGY',\n 'FOLLY',\n 'FOSSA',\n 'FREED',\n 'FREES',\n 'FULLY',\n 'FUNNY',\n 'FURRY',\n 'FUSSY',\n 'FUZZY',\n 'GAFFE',\n 'GALLS',\n 'GASSY',\n 'GIDDY',\n 'GILLS',\n 'GLOOM',\n 'GOLLY',\n 'GREED',\n 'GREEK',\n 'GREEN',\n 'GREET',\n 'GROOM',\n 'GULLS',\n 'GULLY',\n 'GUPPY',\n 'HALLO',\n 'HALLS',\n 'HAPPY',\n 'HARRY',\n 'HELLO',\n 'HELLS',\n 'HENNA',\n 'HILLS',\n 'HILLY',\n 'HINNY',\n 'HIPPO',\n 'HIPPY',\n 'HOBBY',\n 'HOGGS',\n 'HOLLY',\n 'HUBBY',\n 'HUFFY',\n 'HULLO',\n 'HULLS',\n 'HURRY',\n 'HUSSY',\n 'JAZZY',\n 'JELLY',\n 'JEMMY',\n 'JETTY',\n 'JIFFY',\n 'JIMMY',\n 'JOLLY',\n 'KILLS',\n 'KITTY',\n 'KLOOF',\n 'KNEED',\n 'KNEEL',\n 'KNEES',\n 'KRAAL',\n 'LASSO',\n 'LEGGY',\n 'LEMMA',\n 'LOBBY',\n 'LORRY',\n 'MALLS',\n 'MARRY',\n 'MATTE',\n 'MECCA',\n 'MERRY',\n 'MESSY',\n 'MILLS',\n 'MISSY',\n 'MITTS',\n 'MOSSY',\n 'MUDDY',\n 'MUFFS',\n 'MUGGY',\n 'MUTTS',\n 'MYRRH',\n 'NAPPY',\n 'NAVVY',\n 'NETTS',\n 'NODDY',\n 'NULLS',\n 'NUTTY',\n 'PADDY',\n 'PALLS',\n 'PARRY',\n 'PASSE',\n 'PENNY',\n 'PERRY',\n 'PETTY',\n 'PIGGY',\n 'PILLS',\n 'PIZZA',\n 'POLLS',\n 'POSSE',\n 'POTTY',\n 'PREEN',\n 'PROOF',\n 'PUFFS',\n 'PUFFY',\n 'PULLS',\n 'PURRS',\n 'PUSSY',\n 'PUTTI',\n 'PUTTS',\n 'PUTTY',\n 'QUEEN',\n 'QUEER',\n 'RABBI',\n 'RALLY',\n 'RATTY',\n 'RIFFS',\n 'RILLS',\n 'ROLLS',\n 'RUDDY',\n 'RUFFS',\n 'RUMMY',\n 'RUNNY',\n 'SALLY',\n 'SAVVY',\n 'SCOOP',\n 'SCOOT',\n 'SHEEN',\n 'SHEEP',\n 'SHEER',\n 'SHEET',\n 'SHOOK',\n 'SHOOT',\n 'SILLY',\n 'SLEEK',\n 'SLEEP',\n 'SLEET',\n 'SLOOP',\n 'SNEER',\n 'SNOOP',\n 'SODDY',\n 'SOGGY',\n 'SONNY',\n 'SOPPY',\n 'SORRY',\n 'SPEED',\n 'SPOOF',\n 'SPOOK',\n 'SPOOL',\n 'SPOON',\n 'SPOOR',\n 'STEED',\n 'STEEL',\n 'STEEP',\n 'STEER',\n 'STOOD',\n 'STOOL',\n 'STOOP',\n 'SULLY',\n 'SUMMA',\n 'SUNNY',\n 'SWEEP',\n 'SWEET',\n 'SWOON',\n 'SWOOP',\n 'TABBY',\n 'TALLY',\n 'TARRY',\n 'TEDDY',\n 'TELLS',\n 'TELLY',\n 'TERRY',\n 'TIKKA',\n 'TILLS',\n 'TINNY',\n 'TODDY',\n 'TOFFY',\n 'TOLLS',\n 'TONNE',\n 'TREES',\n 'TROOP',\n 'TUBBY',\n 'TUMMY',\n 'TUNNY',\n 'TWEED',\n 'VILLA',\n 'WALLS',\n 'WATTS',\n 'WEBBY',\n 'WELLS',\n 'WELLY',\n 'WHEEL',\n 'WHOOP',\n 'WILLS',\n 'WITTY',\n 'WORRY',\n 'YELLS',\n 'ZAPPY',\n 'ZIPPY']"
     },
     "execution_count": 9,
     "metadata": {},
     "output_type": "execute_result"
    }
   ]
  },
  {
   "cell_type": "markdown",
   "source": [
    "With a bit of extra context it should be easy to eliminate a lot of the words on the list above and suddenly by looking at just one word of the ciphertext, we can start making some educated guesses about the substitution mapping used. Fundamentally we're exploiting the fact that a simple substitution cipher doesn't alter the frequency distribution of the symbols in the plaintext.\n",
    "\n",
    "The frequency distribution of characters in typical English text is far from uniform. We can compute our own relative word frequency numbers by taking a long piece of plaintext and counting the number of times each symbol occurs."
   ],
   "metadata": {
    "collapsed": false,
    "pycharm": {
     "name": "#%% md\n"
    }
   }
  },
  {
   "cell_type": "code",
   "execution_count": 10,
   "outputs": [
    {
     "name": "stdout",
     "output_type": "stream",
     "text": [
      "Pickle not found, running loader for key: wiki_text\n"
     ]
    },
    {
     "data": {
      "text/plain": "'TEXTIDTEXT ALBERT OF PRUSSIA MAY MARCH WAS THE LAST GRAND MASTER OF THE TEUTONIC KNIGHTS WHO AFTER CONVERTING TO LUTHERANISM BECAME THE FIRST MONARCH OF THE DUCHY OF PRUSSIA THE SECULARIZED STATE THAT EMERGED FROM THE FORMER MONASTIC STATE OF THE TEUTONIC KNIGHTS ALBERT WAS THE FIRST EUROPEAN RULER TO ESTABLISH PROTESTANTISM AS THE OFFICIAL STATE RELIGION OF HIS LANDS HE PROVED INSTRUMENTAL IN THE POLITICAL SPREAD OF PROTESTANTISM IN ITS EARLY STAGE RULING THE PRUSSIAN LANDS FOR NEARLY SIX DECADES A MEMBER OF THE BRANDENBURGANSBACH BRANCH OF THE HOUSE OF HOHENZOLLERN ALBERT S ELECTION AS GRAND MASTER HAD BROUGHT ABOUT HOPES OF A REVERSAL OF THE DECLINING FORTUNE OF THE TEUTONIC KNIGHTS HE WAS A SKILLED POLITICAL ADMINISTRATOR AND LEADER AND DID INDEED REVERSE THE DECLINE OF THE TEUTONIC ORDER HOWEVER ALBERT WHO WAS SYMPATHETIC TO THE DEMANDS OF MARTIN LUTHER REBELLED AGAINST THE CATHOLIC CHURCH AND THE HOLY ROMAN EMPIRE BY CONVERTING THE TEUTONIC STATE INTO A PROTESTANT AND HEREDITARY '"
     },
     "execution_count": 10,
     "metadata": {},
     "output_type": "execute_result"
    }
   ],
   "source": [
    "import zipfile\n",
    "import io\n",
    "import re\n",
    "\n",
    "\n",
    "def get_wiki_corpus():\n",
    "    # Download a sample of the wikipedia corpus (~4mb)\n",
    "    response_bytes = requests.get(\"https://www.corpusdata.org/wiki/samples/text.zip\").content\n",
    "    zipped = zipfile.ZipFile(io.BytesIO(response_bytes), \"r\")\n",
    "    wiki_text = \"\"\n",
    "\n",
    "    for file in zipped.infolist():\n",
    "        wiki_text = wiki_text + zipped.read(file).decode(\"UTF-8\")\n",
    "\n",
    "    # Uppercase it and remove any unspported characters\n",
    "    wiki_text = re.sub(\" +\", \" \", \"\".join(c if c in alphabet else \"\" for c in wiki_text.upper()))\n",
    "\n",
    "    return wiki_text\n",
    "\n",
    "\n",
    "wiki_text = pkl_cache(lambda: get_wiki_corpus(), \"wiki_text\")\n",
    "\n",
    "wiki_text[0:1000]"
   ],
   "metadata": {
    "collapsed": false,
    "pycharm": {
     "name": "#%%\n"
    }
   }
  },
  {
   "cell_type": "code",
   "execution_count": 11,
   "outputs": [
    {
     "data": {
      "text/plain": "<Figure size 432x288 with 1 Axes>",
      "image/png": "[encoded data removed]"
     },
     "metadata": {
      "needs_background": "light"
     },
     "output_type": "display_data"
    }
   ],
   "source": [
    "import matplotlib.pyplot as plt\n",
    "\n",
    "\n",
    "def calculate_symbol_frequency(text, alphabet, plot=False):\n",
    "    symbol_frequency = {c: 0 for c in alphabet}\n",
    "\n",
    "    for c in text:\n",
    "        symbol_frequency[c] = symbol_frequency[c] + 1\n",
    "\n",
    "    sorted_and_normalised = sorted([(x[0], x[1] / len(text)) for x in symbol_frequency.items()], key=lambda x: x[1],\n",
    "                                   reverse=True)\n",
    "\n",
    "    if plot:\n",
    "        plt.rcdefaults()\n",
    "        plt.rcParams['figure.figsize'] = [15, 8]\n",
    "        fig, ax = plt.subplots()\n",
    "        ax.bar(range(len(sorted_and_normalised)), [x[1] for x in sorted_and_normalised], align='center')\n",
    "        plt.xticks(range(len(symbol_frequency)), [x[0] for x in sorted_and_normalised])\n",
    "\n",
    "        ax.set_xlabel(\"Symbol\")\n",
    "        ax.set_ylabel(\"Frequency\")\n",
    "\n",
    "        plt.show()\n",
    "\n",
    "    return sorted_and_normalised\n",
    "\n",
    "\n",
    "plain_frequencies = calculate_symbol_frequency(wiki_text[0:1_000_000], alphabet, True)"
   ],
   "metadata": {
    "collapsed": false,
    "pycharm": {
     "name": "#%%\n"
    }
   }
  },
  {
   "cell_type": "markdown",
   "source": [
    "## Shannon Entropy\n",
    "\n",
    "As we'd expect, the relative frequencies of each letter vary a lot. In the first million characters of the corpus the space symbol is most common, followed by $E$. We can quantify this effect by calculating the Shannon entropy (in bits per symbol) for the process that generated a sentence $S$:\n",
    "\n",
    "$$ H(S) = - \\sum_{s \\in S}{p(s)\\text{log}_2(p(s))} = \\mathbb{E}[-\\text{log}_2p(S)] $$\n",
    "\n",
    "This measures the information content of $S$ or intuitively on average how many bits we need to encode each symbol in $S$ (or even more intuitively: given a yes/no decision tree, on average how many questions would we need to ask to uniquely determine each symbol). At one extreme if a sentence is composed of just one symbol, $\\text{log}_2(p(s) = 1) = 0$ and $ H(S) = 0 $ - No information is conveyed by the sentence $S$.\n",
    "\n",
    "At the other extreme the concavity of the logarithm implies that $ H(S) $ is maximised when $P(s_i)$ is equal for all symbols. This makes intuitive sense - If we're completely unable to predict the next symbol in a sequence, it's conveying the maximum possible amount of information to us."
   ],
   "metadata": {
    "collapsed": false
   }
  },
  {
   "cell_type": "code",
   "execution_count": 12,
   "outputs": [
    {
     "name": "stdout",
     "output_type": "stream",
     "text": [
      "Entropy (bits per symbol): 4.138819297338748\n"
     ]
    }
   ],
   "source": [
    "def shannon_entropy_per_symbol(symbol_frequencies):\n",
    "    return sum(x * math.log(x, 2) for x in filter(lambda x: x != 0.0, symbol_frequencies)) * -1\n",
    "\n",
    "\n",
    "print(f\"Entropy (bits per symbol): {shannon_entropy_per_symbol([x[1] for x in plain_frequencies])}\")"
   ],
   "metadata": {
    "collapsed": false,
    "pycharm": {
     "name": "#%%\n"
    }
   }
  },
  {
   "cell_type": "markdown",
   "source": [
    "The theoretical maximum entropy per symbol for a sentence composed of alphabet $A$ is $ log_2(|A|) $ or around 4.75 bits for a 27-symbol alphabet. this is quite a bit higher than the entropy calculated above and corresponds with the non-uniform symbol frequency distribution of the English language. Using the keyed substitution cipher from above, we can encrypt the next million characters from the corpus (using a random key) and run the same analysis."
   ],
   "metadata": {
    "collapsed": false,
    "pycharm": {
     "name": "#%% md\n"
    }
   }
  },
  {
   "cell_type": "code",
   "execution_count": 13,
   "outputs": [
    {
     "data": {
      "text/plain": "<Figure size 1500x800 with 1 Axes>",
      "image/png": "[encoded data removed]"
     },
     "metadata": {},
     "output_type": "display_data"
    },
    {
     "name": "stdout",
     "output_type": "stream",
     "text": [
      "Entropy (bits per symbol): 4.1396378506669524\n"
     ]
    }
   ],
   "source": [
    "from random import shuffle\n",
    "\n",
    "random_key = list(alphabet)\n",
    "shuffle(random_key)\n",
    "random_key = \"\".join(random_key)\n",
    "cipher = keyed_substitution_cipher(wiki_text[1_000_000:2_000_000], random_key)\n",
    "cipher_frequencies = calculate_symbol_frequency(cipher, range(len(alphabet)), True)\n",
    "print(f\"Entropy (bits per symbol): {shannon_entropy_per_symbol([x[1] for x in cipher_frequencies])}\")"
   ],
   "metadata": {
    "collapsed": false,
    "pycharm": {
     "name": "#%%\n"
    }
   }
  },
  {
   "cell_type": "markdown",
   "source": [
    "As you'd expect, the distribution has an almost identical shape and entropy as the plaintext. By corresponding the known frequency distribution with the distribution calculated from the ciphertext, we can estimate the mapping function and attempt to decrypt the ciphertext."
   ],
   "metadata": {
    "collapsed": false,
    "pycharm": {
     "name": "#%% md\n"
    }
   }
  },
  {
   "cell_type": "code",
   "execution_count": 14,
   "outputs": [
    {
     "name": "stdout",
     "output_type": "stream",
     "text": [
      "Predicted key: VPSDCHIQOWAJXEGB TFUZKMYLRN\n",
      "Actual key   : VFRDCHIQOWAXJEGY TPMZKUBLSN\n"
     ]
    },
    {
     "data": {
      "text/plain": "'TIER RMYREQMENT WASTIUE DERIGN WOSK ON UU RELPFSOFELLED HOWITZESR WAR CANCELLED OTHESLINKR FSINCE OP WALER HORFITAL IR A SEGIONAL ACMTE FMYLIC HORFITAL LOCATED IN RHA TIN NEW TESSITOSIER IN HONG KONG IT IR ALRO A TEACHING HORFITAL OP THE PACMLTB OP UEDICINE OP THE CHINERE MNIVESRITB OP HONG KONG NAUED APTES AND OPPICIALLB OFENED YB CHASLER FSINCE OP WALER IN FSINCE OP WALER HORFITAL NOW FSOVIDER AFFSOJIUATELB HORFITAL YEDR AND HOMSR ACCIDENT AND EUESGENCB RESVICE WITH AYOMT RTAPP IT IR ALRO THE SEGIONAL HORFITAL SERFONRIYLE POS THE EARTESN NEW TESSITOSIER RESVING RHATIN TAI FO NOSTH NEW TESSITOSIER RAI KMNG AND THE OMTLBING IRLANDR IN EART NEW TESSITOSIER THE HORFITAL IR RMFFOSTED YB THE LI KARHING RFECIALIRT CLINICR POS RFECIALTB OMTFATIENT RESVICER THE HORFITAL GOVESNING COUUITTEE IR THE MLTIUATE DECIRION UAKING AMTHOSITB OP THE HORFITAL THE CMSSENT CHIEP EJECMTIVE OP THE HORFITAL IR DS CHITIU HMNG HIRTOSB POMNDATION THE HIRTOSB OP FSINCE OP WALER HORFITAL IR CONNECTED WITH THAT OP T'"
     },
     "execution_count": 14,
     "metadata": {},
     "output_type": "execute_result"
    }
   ],
   "source": [
    "calculated_key = \"\".join(\n",
    "    [x[0][0] for x in sorted(list(zip(plain_frequencies, cipher_frequencies)), key=lambda x: x[1][0])])\n",
    "print(f\"Predicted key: {calculated_key}\")\n",
    "print(f\"Actual key   : {random_key}\")\n",
    "keyed_substitution_decipher(cipher, calculated_key)[0:1000]"
   ],
   "metadata": {
    "collapsed": false,
    "pycharm": {
     "name": "#%%\n"
    }
   }
  },
  {
   "cell_type": "markdown",
   "source": [],
   "metadata": {
    "collapsed": false,
    "pycharm": {
     "name": "#%% md\n"
    }
   }
  },
  {
   "cell_type": "code",
   "execution_count": 15,
   "outputs": [
    {
     "data": {
      "text/plain": "<Figure size 1500x800 with 1 Axes>",
      "image/png": "[encoded data removed]"
     },
     "metadata": {},
     "output_type": "display_data"
    },
    {
     "name": "stdout",
     "output_type": "stream",
     "text": [
      "Predicted key: BURMDHAJIGSXQEFY TCWZVPKLNO\n",
      "Actual key   : VFRDCHIQOWAXJEGY TPMZKUBLSN\n"
     ]
    },
    {
     "data": {
      "text/plain": "'TAEN NPKNEJPEOT GSRTAWE MENAFO GIRV IO WW NELUCRICELLEM HIGATZERN GSN DSODELLEM ITHERLAOVN CRAODE IU GSLEN HINCATSL AN S REFAIOSL SDPTE CPKLAD HINCATSL LIDSTEM AO NHS TAO OEG TERRATIRAEN AO HIOF VIOF AT AN SLNI S TESDHAOF HINCATSL IU THE USDPLTY IU WEMADAOE IU THE DHAOENE POABERNATY IU HIOF VIOF OSWEM SUTER SOM IUUADASLLY ICEOEM KY DHSRLEN CRAODE IU GSLEN AO CRAODE IU GSLEN HINCATSL OIG CRIBAMEN SCCRIXAWSTELY HINCATSL KEMN SOM HIPRN SDDAMEOT SOM EWERFEODY NERBADE GATH SKIPT NTSUU AT AN SLNI THE REFAIOSL HINCATSL RENCIONAKLE UIR THE ESNTERO OEG TERRATIRAEN NERBAOF NHSTAO TSA CI OIRTH OEG TERRATIRAEN NSA VPOF SOM THE IPTLYAOF ANLSOMN AO ESNT OEG TERRATIRAEN THE HINCATSL AN NPCCIRTEM KY THE LA VSNHAOF NCEDASLANT DLAOADN UIR NCEDASLTY IPTCSTAEOT NERBADEN THE HINCATSL FIBEROAOF DIWWATTEE AN THE PLTAWSTE MEDANAIO WSVAOF SPTHIRATY IU THE HINCATSL THE DPRREOT DHAEU EXEDPTABE IU THE HINCATSL AN MR DHATAW HPOF HANTIRY UIPOMSTAIO THE HANTIRY IU CRAODE IU GSLEN HINCATSL AN DIOOEDTEM GATH THST IU T'"
     },
     "execution_count": 15,
     "metadata": {},
     "output_type": "execute_result"
    }
   ],
   "source": [
    "cipher = keyed_substitution_cipher(wiki_text[1_000_000:1_001_000], random_key)\n",
    "cipher_frequencies = calculate_symbol_frequency(cipher, range(len(alphabet)), True)\n",
    "calculated_key = \"\".join(\n",
    "    [x[0][0] for x in sorted(list(zip(plain_frequencies, cipher_frequencies)), key=lambda x: x[1][0])])\n",
    "print(f\"Predicted key: {calculated_key}\")\n",
    "print(f\"Actual key   : {random_key}\")\n",
    "keyed_substitution_decipher(cipher, calculated_key)[0:1000]"
   ],
   "metadata": {
    "collapsed": false,
    "pycharm": {
     "name": "#%%\n"
    }
   }
  },
  {
   "cell_type": "markdown",
   "source": [
    "The key we've calculated is fairly different to the true key and the generated plaintext looks much less like English. Comparing the symbol distribution with that calculated from the longer ciphertext reveals the problem. The symbol distributions of short lengths of text can vary significantly from the large-sample distribution and means that as the length of the ciphertext falls, frequency analysis becomes a less useful tool - Having said that, this is still pretty trivially crackable for the determined attacker.\n",
    "\n",
    "I haven't run the analysis here but it's worth noting that frequency analysis is even more effective when used to crack bigram substitution ciphers as the ciphertext frequency distribution is even less uniform, with a smaller set of bigrams making up more of the total density."
   ],
   "metadata": {
    "collapsed": false,
    "pycharm": {
     "name": "#%% md\n"
    }
   }
  },
  {
   "cell_type": "markdown",
   "source": [
    "# One-time pads\n",
    "\n",
    "One-time pads are an interesting class of polyalphabetic cipher as they have a uniform ciphertext symbol distribution and are the only cipher proven uncrackable if implemented correctly. They aren't strictly relevant to the Enigma but are simple and demonstrate some interesting principles.\n",
    "\n",
    "A one-time pad encrypts plaintext $S$ with a key $K$ of length $|S|$ that contains (for each symbol in the plaintext) a random integer between 0 and $|L|$ that is used to generate ciphertext:\n",
    "\n",
    "$$ E_{\\text{otp}}(S_, K) : s_i, k_i \\rightarrow (s_i + k_i) \\bmod |L| , \\forall s_i \\in S, k_i \\in K $$\n",
    "\n",
    "The period of the key progression is infinite as long as we don't reuse the pad. Additionally assuming that a high quality source of randomness is used to generate the pad, the key progression is also completely unpredictable.\n",
    "\n",
    "A few details:\n",
    "\n",
    "1. The key must be generated using a secure source of randomness. In the extreme case a key $[0, ..., 0]$ is clearly useless but any non-randomness in the keystream will result in ciphertext with non-uniform symbol frequency distribution which enables a ciphertext attack.\n",
    "2. The key must never be used to encipher more than one piece of plaintext. If we do we're back to using a cipher with a finite key period.\n",
    "3. One-time pads are normally presented using the $\\text{XOR}$ operator to encrypt and decrypt by performing $s \\oplus k$ for each character in the message and key instead of modular addition. I _think_ the analysis is otherwise identical."
   ],
   "metadata": {
    "collapsed": false,
    "pycharm": {
     "name": "#%% md\n"
    }
   }
  },
  {
   "cell_type": "code",
   "execution_count": 16,
   "outputs": [
    {
     "data": {
      "text/plain": "'HELLO WORLD'"
     },
     "execution_count": 16,
     "metadata": {},
     "output_type": "execute_result"
    }
   ],
   "source": [
    "def random_string(length, alphabet):\n",
    "    return [random.randint(0, len(alphabet) - 1) for _ in range(length)]  # Note insecure source of randomness\n",
    "\n",
    "\n",
    "def one_time_pad_cipher(plain, key, alphabet):\n",
    "    return [(c + key[i % len(key)]) % len(alphabet) for i, c in enumerate(plain)]\n",
    "\n",
    "\n",
    "def one_time_pad_decipher(cipher, key, alphabet):\n",
    "    return [(c - key[i % len(key)]) % len(alphabet) for i, c in enumerate(cipher)]\n",
    "\n",
    "\n",
    "plain = \"HELLO WORLD\"\n",
    "\n",
    "otp_key = random_string(len(plain), alphabet)\n",
    "cipher = one_time_pad_cipher(str_to_l(plain), otp_key, alphabet)\n",
    "l_to_str(one_time_pad_decipher(cipher, otp_key, alphabet))"
   ],
   "metadata": {
    "collapsed": false,
    "pycharm": {
     "name": "#%%\n"
    }
   }
  },
  {
   "cell_type": "markdown",
   "source": [
    "We can encrypt the Wikipedia corpus with our OTP and inspect the ciphertext symbol frequency distribution and see that it looks very different to the symbol distribution of ciphertext encrypted with the substitution cipher."
   ],
   "metadata": {
    "collapsed": false,
    "pycharm": {
     "name": "#%% md\n"
    }
   }
  },
  {
   "cell_type": "code",
   "execution_count": 17,
   "outputs": [
    {
     "data": {
      "text/plain": "<Figure size 1500x800 with 1 Axes>",
      "image/png": "[encoded data removed]"
     },
     "metadata": {},
     "output_type": "display_data"
    },
    {
     "name": "stdout",
     "output_type": "stream",
     "text": [
      "Entropy (bits per symbol): 4.754877154619588\n"
     ]
    }
   ],
   "source": [
    "otp_key = random_string(len(wiki_text[0:1_000_000]), alphabet)\n",
    "cipher = one_time_pad_cipher(str_to_l(wiki_text[0:1_000_000]), otp_key, alphabet)\n",
    "cipher_frequencies = calculate_symbol_frequency(cipher, range(len(alphabet)), True)\n",
    "print(f\"Entropy (bits per symbol): {shannon_entropy_per_symbol([x[1] for x in cipher_frequencies])}\")"
   ],
   "metadata": {
    "collapsed": false,
    "pycharm": {
     "name": "#%%\n"
    }
   }
  },
  {
   "cell_type": "markdown",
   "source": [
    "It's almost flat and the entropy per symbol has increased to around 4.75 bits - equivalent to a random string drawn from $N$. None of the information encoded in the symbol distribution of the plaintext is present in the ciphertext and as a result we won't get anywhere trying to crack this cipher using just a ciphertext attack."
   ],
   "metadata": {
    "collapsed": false,
    "pycharm": {
     "name": "#%% md\n"
    }
   }
  },
  {
   "cell_type": "markdown",
   "source": [
    "## Enigma\n",
    "\n",
    "After a brief detour we arrive at the main event. Full disclosure I am yet to try it myself but my hope is that the reader will be able to figure out a way to crack the Enigma emulator below. The Enigma machine is a complex polyalphabetic substitution cipher that operates on a 26 character alphabet.\n",
    "\n",
    "I've modelled the Enigma I (M3), the model used most widely by German army command during WW2. It features rotors I, II, III, IV and V which can be ordered in $5!$ different combinations. Each rotor can be set in one of 26 different starting positions (spaces were typically encoded as the character $X$) and the plugboard can be configured in approximately 100 billion combinations when used with 6 leads.\n",
    "\n",
    "The keyspace is thus rather large and the period of the key progression is $26*26*25 = 16900$, much longer than a typical message. The ring settings are implemented although they don't increase the complexity of the key progression.\n",
    "\n",
    "**N.B. the output of this doesn't agree with what Wikipedia suggests the output should be for a similarly configured Enigma. As far as I can tell it works but I've run out of time to figure out what exactly is wrong. If anyone knows, please let me know.**"
   ],
   "metadata": {
    "collapsed": false,
    "pycharm": {
     "name": "#%% md\n"
    }
   }
  },
  {
   "cell_type": "code",
   "execution_count": 18,
   "outputs": [
    {
     "name": "stdout",
     "output_type": "stream",
     "text": [
      "['D', 'H', 'L', 'X', 'O']\n",
      "['A', 'A', 'A', 'A', 'A']\n"
     ]
    }
   ],
   "source": [
    "# M3 Enigma emulator\n",
    "\n",
    "az = \"ABCDEFGHIJKLMNOPQRSTUVWXYZ\"\n",
    "\n",
    "# Rotors i, ii, iii, iv, v\n",
    "rotors = [\n",
    "    \"EKMFLGDQVZNTOWYHXUSPAIBRCJ\",\n",
    "    \"AJDKSIRUXBLHWTMCQGZNPYFVOE\",\n",
    "    \"BDFHJLCPRTXVZNYEIWGAKMUSQO\",\n",
    "    \"ESOVPZJAYQUIRHXLNFTGKDCMWB\",\n",
    "    \"VZBRGITYUPSDNHLXAWMJQOFECK\"\n",
    "]\n",
    "\n",
    "# Notches determine rotor turnover points\n",
    "notches = [16, 4, 21, 9, 25]\n",
    "\n",
    "# Reflectors A, B, C\n",
    "reflectors = [\n",
    "    \"EJMZALYXVBWFCRQUONTSPIKHGD\",\n",
    "    \"YRUHQSLDPXNGOKMIEBFZCWVJAT\",\n",
    "    \"FVPJIAOYEDRZXWGCTKUQSBNMHL\"\n",
    "]\n",
    "\n",
    "def default_state():\n",
    "    return {\n",
    "    \"rotor_order\": [0, 1, 2],\n",
    "    \"rotor_offsets\": [0, 0, 0],\n",
    "    \"ring_settings\": [0, 0, 0],\n",
    "    \"reflector\": 1,\n",
    "    \"plugboard_settings\": []\n",
    "}\n",
    "\n",
    "\n",
    "# Simulate a keypress, returning the ciphertext and new rotor settings\n",
    "def enigma(symbols, enigma_state):\n",
    "\n",
    "    rotor_order = enigma_state[\"rotor_order\"]\n",
    "    rotor_offsets = enigma_state[\"rotor_offsets\"]\n",
    "    ring_settings = enigma_state[\"ring_settings\"]\n",
    "    reflector = enigma_state[\"reflector\"]\n",
    "    plugboard_settings = enigma_state[\"plugboard_settings\"]\n",
    "\n",
    "    enigma_output = []\n",
    "\n",
    "    for symbol in symbols:\n",
    "\n",
    "        # Calculate rotor offsets on keypress\n",
    "        if rotor_offsets[2] == notches[rotor_order[2]]: # If the fast rotor is in the notch, move the middle rotor\n",
    "            rotor_offsets[1] = (rotor_offsets[1] + 1) % 26\n",
    "        else: # If the middle rotor is in the notch it advances along with the slow rotor\n",
    "            if rotor_offsets[1] == notches[rotor_order[1]]:\n",
    "                rotor_offsets[1] = (rotor_offsets[1] + 1) % 26\n",
    "                rotor_offsets[0] = (rotor_offsets[0] + 1) % 26\n",
    "\n",
    "        rotor_offsets[2] = (rotor_offsets[2] + 1) % 26 # Right rotor always steps\n",
    "\n",
    "        # Rotate the rotors to the offset\n",
    "        rotor_1 = f\"{rotors[rotor_order[2]][rotor_offsets[2]:]}{rotors[rotor_order[2]][0:rotor_offsets[2]]}\"\n",
    "        rotor_2 = f\"{rotors[rotor_order[1]][rotor_offsets[1]:]}{rotors[rotor_order[1]][0:rotor_offsets[1]]}\"\n",
    "        rotor_3 = f\"{rotors[rotor_order[0]][rotor_offsets[0]:]}{rotors[rotor_order[0]][0:rotor_offsets[0]]}\"\n",
    "\n",
    "        # Apply ring settings\n",
    "        rotor_1 = f\"{rotor_1[ring_settings[2]:]}{rotor_1[0:ring_settings[2]]}\"\n",
    "        rotor_2 = f\"{rotor_2[ring_settings[1]:]}{rotor_2[0:ring_settings[1]]}\"\n",
    "        rotor_3 = f\"{rotor_3[ring_settings[0]:]}{rotor_3[0:ring_settings[0]]}\"\n",
    "\n",
    "        # Through the plugboard\n",
    "        plugboard_output =  next(iter([x[1] for x in plugboard_settings if x[0] == symbol]), None) or symbol\n",
    "\n",
    "        # Send the symbol through the rotors and reflector\n",
    "        rotor_1_output = rotor_1[az.index(plugboard_output)]\n",
    "        rotor_2_output = rotor_2[az.index(rotor_1_output)]\n",
    "        rotor_3_output = rotor_3[az.index(rotor_2_output)]\n",
    "\n",
    "        # Through the reflector\n",
    "        reflector_output = reflectors[reflector][az.index(rotor_3_output)]\n",
    "\n",
    "        # Back through the rotors in reverse order\n",
    "        rotor_3_output_2 = az[rotor_3.index(reflector_output)]\n",
    "        rotor_2_output_2 = az[rotor_2.index(rotor_3_output_2)]\n",
    "        rotor_1_output_2 = az[rotor_1.index(rotor_2_output_2)]\n",
    "\n",
    "        # And finally through the plugboard\n",
    "        plugboard_output_2 = next(iter([x[0] for x in plugboard_settings if x[1] == rotor_1_output_2]), None) or rotor_1_output_2\n",
    "\n",
    "        enigma_output.append(plugboard_output_2)\n",
    "\n",
    "        # Update state with new rotor positions\n",
    "        enigma_state[\"rotor_offsets\"] = rotor_offsets\n",
    "\n",
    "    return enigma_output, enigma_state\n",
    "\n",
    "\n",
    "enigma_encrypted = enigma(\"AAAAA\", default_state())[0]\n",
    "print(enigma_encrypted)\n",
    "print(enigma(enigma_encrypted, default_state())[0])"
   ],
   "metadata": {
    "collapsed": false,
    "pycharm": {
     "name": "#%%\n"
    }
   }
  },
  {
   "cell_type": "markdown",
   "source": [
    "We can encrypt the Wikipedia corpus using the default machine configuration (no plugboard substitutions) and see what happens."
   ],
   "metadata": {
    "collapsed": false,
    "pycharm": {
     "name": "#%% md\n"
    }
   }
  },
  {
   "cell_type": "code",
   "execution_count": 19,
   "outputs": [
    {
     "data": {
      "text/plain": "'TEXTIDTEXTALBERTOFPRUSSIAMAYMARCHWASTHELASTGRANDMASTEROFTHETEUTONICKNIGHTSWHOAFTERCONVERTINGTOLUTHERANISMBECAMETHEFIRSTMONARCHOFTHEDUCHYOFPRUSSIATHESECULARIZEDSTATETHATEMERGEDFROMTHEFORMERMONASTICSTATEOFTHETEUTONICKNIGHTSALBERTWASTHEFIRSTEUROPEANRULERTOESTABLISHPROTESTANTISMASTHEOFFICIALSTATERELIGIONOFHISLANDSHEPROVEDINSTRUMENTALINTHEPOLITICALSPREADOFPROTESTANTISMINITSEARLYSTAGERULINGTHEPRUSSIANLANDSFORNEARLYSIXDECADESAMEMBEROFTHEBRANDENBURGANSBACHBRANCHOFTHEHOUSEOFHOHENZOLLERNALBERTSELECTIONASGRANDMASTERHADBROUGHTABOUTHOPESOFAREVERSALOFTHEDECLININGFORTUNEOFTHETEUTONICKNIGHTSHEWASASKILLEDPOLITICALADMINISTRATORANDLEADERANDDIDINDEEDREVERSETHEDECLINEOFTHETEUTONICORDERHOWEVERALBERTWHOWASSYMPATHETICTOTHEDEMANDSOFMARTINLUTHERREBELLEDAGAINSTTHECATHOLICCHURCHANDTHEHOLYROMANEMPIREBYCONVERTINGTHETEUTONICSTATEINTOAPROTESTANTANDHEREDITARYREALMTHEHISUNCLETHEKINGOFPOLANDTHEARRANGEMENTWASCONFIRMEDBYTHETREATYOFKRAKWINALBERTPLEDGEDAPERSONALOATHTOTHEKINGANDINRETURNWASINVESTEDWITHTHEDUCHYFORHIMSELFANDHIS'"
     },
     "execution_count": 19,
     "metadata": {},
     "output_type": "execute_result"
    }
   ],
   "source": [
    "# Filter spaces and encrypt using Enigma\n",
    "wiki_enigma_encrypted = enigma([x for x in wiki_text[0:100_000] if x != \" \"], default_state())[0]\n",
    "\n",
    "# Decrypt and print\n",
    "''.join(enigma(wiki_enigma_encrypted, default_state())[0])[0:1000]"
   ],
   "metadata": {
    "collapsed": false,
    "pycharm": {
     "name": "#%%\n"
    }
   }
  },
  {
   "cell_type": "code",
   "execution_count": 20,
   "outputs": [
    {
     "data": {
      "text/plain": "<Figure size 1500x800 with 1 Axes>",
      "image/png": "[encoded data removed]"
     },
     "metadata": {},
     "output_type": "display_data"
    },
    {
     "name": "stdout",
     "output_type": "stream",
     "text": [
      "Entropy (bits per symbol): 4.69976685397679\n"
     ]
    }
   ],
   "source": [
    "wiki_enigma_frequencies = calculate_symbol_frequency(wiki_enigma_encrypted, alphabet, True)\n",
    "print(f\"Entropy (bits per symbol): {shannon_entropy_per_symbol([x[1] for x in wiki_enigma_frequencies])}\")"
   ],
   "metadata": {
    "collapsed": false,
    "pycharm": {
     "name": "#%%\n"
    }
   }
  },
  {
   "cell_type": "markdown",
   "source": [
    "The entropy per symbol of the Enigma ciphertext is very close to $log_2(26) \\approx 4.7 $ (there are only 26 symbols in the Enigma alphabet) and the symbol distribution is close (but not quite) to a uniform distribution. Note that we've encrypted a message much longer than the period of the cipher (which in practice would never be done) which should make it easier to crack.\n",
    "\n",
    "There's plenty of info on the internet about the methods used to break Enigma during WW2. I would assume that access to modern computers make it easier but as mentioned, that's left as an exercise to the reader. I hope this has been an enjoyable read, that you've learned something new and look forward to seeing what people come up with. Almost all comments, queries and feedback is welcome (particularly if you're actually a cryptographer) and I'll do my best to merge the changes.\n",
    "\n",
    "H"
   ],
   "metadata": {
    "collapsed": false,
    "pycharm": {
     "name": "#%% md\n"
    }
   }
  },
  {
   "cell_type": "markdown",
   "source": [
    "# Other links\n",
    "\n",
    "[Wiki - Substitution ciphers](https://en.wikipedia.org/wiki/Substitution_cipher)\n",
    "\n",
    "[Wiki - Polygraphic substitution](https://en.wikipedia.org/wiki/Polygraphic_substitution)\n",
    "\n",
    "[Wiki - Polyalphabetic substitution cipher](https://en.wikipedia.org/wiki/Polyalphabetic_cipher)\n",
    "\n",
    "[Wiki - Shannon Entropy](https://en.wikipedia.org/wiki/Entropy_(information_theory))\n",
    "\n",
    "[Wiki - Enigma Machine](https://en.wikipedia.org/wiki/Enigma_machine)\n",
    "\n",
    "[Wiki - Cryptanalysis of the Enigma](https://en.wikipedia.org/wiki/Cryptanalysis_of_the_Enigma)\n",
    "\n",
    "[Enigma emulator](https://www.101computing.net/enigma-machine-emulator/)\n",
    "\n",
    "[3D Enigma emulator](https://enigma.virtualcolossus.co.uk/)"
   ],
   "metadata": {
    "collapsed": false,
    "pycharm": {
     "name": "#%% md\n"
    }
   }
  }
 ],
 "metadata": {
  "kernelspec": {
   "display_name": "Python 3 (ipykernel)",
   "language": "python",
   "name": "python3"
  },
  "language_info": {
   "codemirror_mode": {
    "name": "ipython",
    "version": 3
   },
   "file_extension": ".py",
   "mimetype": "text/x-python",
   "name": "python",
   "nbconvert_exporter": "python",
   "pygments_lexer": "ipython3",
   "version": "3.10.4"
  }
 },
 "nbformat": 4,
 "nbformat_minor": 1
}